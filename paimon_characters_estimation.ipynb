{
 "cells": [
  {
   "cell_type": "code",
   "execution_count": 28,
   "metadata": {},
   "outputs": [],
   "source": [
    "# -*- coding: utf-8 -*-\n",
    "import json\n",
    "import math\n",
    "from scipy import stats\n",
    "\n",
    "with open('paimon-moe-local-data.json','r') as f:\n",
    "    json_file = json.load(f)"
   ]
  },
  {
   "cell_type": "code",
   "execution_count": 29,
   "metadata": {},
   "outputs": [
    {
     "name": "stdout",
     "output_type": "stream",
     "text": [
      "星５獲得回数: 12.00\n",
      "星５の確率: 0.015979\n",
      "星５の期待値: 62.583333\n",
      "標準偏差： 0.991978\n"
     ]
    }
   ],
   "source": [
    "characters_5star_list = [\n",
    "    \"mona\",\n",
    "    \"kamisato_ayaka\",\n",
    "    \"qiqi\",\n",
    "    \"raiden_shogun\",\n",
    "    \"jean\",\n",
    "    \"albedo\",\n",
    "    \"shenhe\",\n",
    "    \"zhongli\",\n",
    "    \"yae_miko\"]\n",
    "characters_5star_wish_count = 0\n",
    "wish_count = 580 + 171\n",
    "data = json_file.get(\"wish-counter-character-event\")[\"pulls\"]\n",
    "for i in data:\n",
    "    if i[\"id\"] in characters_5star_list:\n",
    "        characters_5star_wish_count += 1\n",
    "data2 = json_file.get(\"wish-counter-standard\")[\"pulls\"]\n",
    "for i in data2:\n",
    "    if i[\"id\"] in characters_5star_list:\n",
    "        characters_5star_wish_count += 1\n",
    "print(\"星５獲得回数: {:.2f}\".format(characters_5star_wish_count))\n",
    "p1 = characters_5star_wish_count/wish_count\n",
    "print(\"星５の確率: {:.6f}\".format(p1))\n",
    "print(\"星５の期待値: {:.6f}\".format(1/p1))\n",
    "print(\"標準偏差： {:.6f}\".format(math.sqrt((1-p1)/p1*p1)))"
   ]
  },
  {
   "cell_type": "code",
   "execution_count": null,
   "metadata": {},
   "outputs": [],
   "source": [
    "mean,variance,skewness,kurtosis=stats.binom.stats(wish_count,p1,moments=\"mvsk\")\n",
    "print()"
   ]
  },
  {
   "cell_type": "code",
   "execution_count": 30,
   "metadata": {},
   "outputs": [
    {
     "name": "stdout",
     "output_type": "stream",
     "text": [
      "標準誤差：0.008968\n",
      "母集団確率範囲：[0.024947,0.007010]\n"
     ]
    }
   ],
   "source": [
    "z = 1.96\n",
    "p1_standard_error = z * (math.sqrt((p1*(1-p1))/wish_count))\n",
    "print(\"標準誤差：{:.6f}\".format(p1_standard_error))\n",
    "print(\"母集団確率範囲：[{:.6f},{:.6f}]\".format(p1 + p1_standard_error,p1 - p1_standard_error))"
   ]
  },
  {
   "cell_type": "code",
   "execution_count": null,
   "metadata": {},
   "outputs": [],
   "source": []
  },
  {
   "cell_type": "code",
   "execution_count": 31,
   "metadata": {},
   "outputs": [
    {
     "name": "stdout",
     "output_type": "stream",
     "text": [
      "(60.63909123895263, 64.52757542771404)\n"
     ]
    }
   ],
   "source": [
    "conf_intveral = stats.norm.interval(0.95, loc=1/p1, scale=math.sqrt((1-p1)/p1*p1))\n",
    "print(conf_intveral)\n"
   ]
  }
 ],
 "metadata": {
  "interpreter": {
   "hash": "11f1dc213e07634baa4c5c321dec03c05dafae643c50f20e6d1a492290c05dc2"
  },
  "kernelspec": {
   "display_name": "Python 3.9.1 64-bit",
   "language": "python",
   "name": "python3"
  },
  "language_info": {
   "codemirror_mode": {
    "name": "ipython",
    "version": 3
   },
   "file_extension": ".py",
   "mimetype": "text/x-python",
   "name": "python",
   "nbconvert_exporter": "python",
   "pygments_lexer": "ipython3",
   "version": "3.8.6"
  },
  "orig_nbformat": 4
 },
 "nbformat": 4,
 "nbformat_minor": 2
}
