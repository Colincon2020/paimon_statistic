{
 "cells": [
  {
   "cell_type": "code",
   "execution_count": 71,
   "metadata": {},
   "outputs": [],
   "source": [
    "# -*- coding: utf-8 -*-\n",
    "import json\n",
    "import math\n",
    "from scipy import stats\n",
    "from matplotlib import pyplot as plt\n",
    "import matplotlib\n",
    "import numpy as np\n",
    "\n",
    "matplotlib.rcParams['font.sans-serif']=['MS Gothic']\n",
    "matplotlib.rcParams['axes.unicode_minus']=False\n",
    "\n",
    "with open('paimon-moe-local-data.json','r') as f:\n",
    "    json_file = json.load(f)"
   ]
  },
  {
   "cell_type": "code",
   "execution_count": 72,
   "metadata": {},
   "outputs": [
    {
     "name": "stdout",
     "output_type": "stream",
     "text": [
      "星５獲得回数: 12.00\n",
      "星５の確率: 0.015979\n",
      "星５の期待値: 62.583333\n",
      "標準偏差： 62.081320\n"
     ]
    }
   ],
   "source": [
    "characters_5star_list = [\n",
    "    \"mona\",\n",
    "    \"kamisato_ayaka\",\n",
    "    \"qiqi\",\n",
    "    \"raiden_shogun\",\n",
    "    \"jean\",\n",
    "    \"albedo\",\n",
    "    \"shenhe\",\n",
    "    \"zhongli\",\n",
    "    \"yae_miko\"]\n",
    "characters_5star_wish_count = 0\n",
    "wish_count = 580 + 171\n",
    "data = json_file.get(\"wish-counter-character-event\")[\"pulls\"]\n",
    "for i in data:\n",
    "    if i[\"id\"] in characters_5star_list:\n",
    "        characters_5star_wish_count += 1\n",
    "data2 = json_file.get(\"wish-counter-standard\")[\"pulls\"]\n",
    "for i in data2:\n",
    "    if i[\"id\"] in characters_5star_list:\n",
    "        characters_5star_wish_count += 1\n",
    "print(\"星５獲得回数: {:.2f}\".format(characters_5star_wish_count))\n",
    "p1 = characters_5star_wish_count/wish_count\n",
    "print(\"星５の確率: {:.6f}\".format(p1))\n",
    "print(\"星５の期待値: {:.6f}\".format(1/p1))\n",
    "print(\"標準偏差： {:.6f}\".format(math.sqrt((1-p1)/(p1*p1))))"
   ]
  },
  {
   "cell_type": "code",
   "execution_count": 73,
   "metadata": {},
   "outputs": [
    {
     "name": "stdout",
     "output_type": "stream",
     "text": [
      "E(X): 62.583333333333336\n",
      "V(X): 62.08131987786486\n",
      "歪度: 2.00006486509863\n",
      "尖度: 6.000259464602001\n"
     ]
    }
   ],
   "source": [
    "mean,variance,skewness,kurtosis=stats.geom.stats(p1,moments=\"mvsk\")\n",
    "print(\"E(X):\",mean)\n",
    "print(\"V(X):\",math.sqrt(variance))\n",
    "print(\"歪度:\",skewness)\n",
    "print(\"尖度:\",kurtosis)"
   ]
  },
  {
   "cell_type": "code",
   "execution_count": 74,
   "metadata": {},
   "outputs": [
    {
     "data": {
      "image/png": "[encoded data removed]",
      "text/plain": [
       "<Figure size 432x288 with 1 Axes>"
      ]
     },
     "metadata": {
      "needs_background": "light"
     },
     "output_type": "display_data"
    }
   ],
   "source": [
    "n=wish_count\n",
    "p=p1\n",
    "x=range(0,n)\n",
    "pmf_result=stats.geom.pmf(x,p)\n",
    "\n",
    "plt.bar(x,pmf_result)\n",
    "plt.xlabel('Number of Success')\n",
    "plt.ylabel('Probability')\n",
    "plt.title(\"確率質量関数\")\n",
    "plt.show()"
   ]
  },
  {
   "cell_type": "code",
   "execution_count": 75,
   "metadata": {},
   "outputs": [
    {
     "name": "stdout",
     "output_type": "stream",
     "text": [
      "標準誤差：0.008968\n",
      "母集団確率範囲：[0.024947,0.007010]\n"
     ]
    }
   ],
   "source": [
    "z = 1.96\n",
    "p1_standard_error = z * (math.sqrt((p1*(1-p1))/wish_count))\n",
    "print(\"標準誤差：{:.6f}\".format(p1_standard_error))\n",
    "print(\"母集団確率範囲：[{:.6f},{:.6f}]\".format(p1 + p1_standard_error,p1 - p1_standard_error))"
   ]
  },
  {
   "cell_type": "code",
   "execution_count": 76,
   "metadata": {},
   "outputs": [
    {
     "name": "stdout",
     "output_type": "stream",
     "text": [
      "upper: 0.02529960053262317\n",
      "lower: 0.007989347536617843\n"
     ]
    }
   ],
   "source": [
    "lower,upper = stats.binom.interval(0.95,wish_count,p1)\n",
    "print(\"upper:\",upper/wish_count)\n",
    "print(\"lower:\",lower/wish_count)"
   ]
  },
  {
   "cell_type": "code",
   "execution_count": 78,
   "metadata": {},
   "outputs": [
    {
     "name": "stdout",
     "output_type": "stream",
     "text": [
      "(60.63909123895263, 64.52757542771404)\n"
     ]
    }
   ],
   "source": [
    "conf_intveral = stats.norm.interval(0.95, loc=1/p1, scale=math.sqrt((1-p1)/p1*p1))\n",
    "print(conf_intveral)\n"
   ]
  }
 ],
 "metadata": {
  "interpreter": {
   "hash": "11f1dc213e07634baa4c5c321dec03c05dafae643c50f20e6d1a492290c05dc2"
  },
  "kernelspec": {
   "display_name": "Python 3.9.1 64-bit",
   "language": "python",
   "name": "python3"
  },
  "language_info": {
   "codemirror_mode": {
    "name": "ipython",
    "version": 3
   },
   "file_extension": ".py",
   "mimetype": "text/x-python",
   "name": "python",
   "nbconvert_exporter": "python",
   "pygments_lexer": "ipython3",
   "version": "3.8.6"
  },
  "orig_nbformat": 4
 },
 "nbformat": 4,
 "nbformat_minor": 2
}
