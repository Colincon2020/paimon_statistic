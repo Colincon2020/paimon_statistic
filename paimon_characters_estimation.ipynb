{
 "cells": [
  {
   "cell_type": "code",
   "execution_count": 64,
   "metadata": {},
   "outputs": [],
   "source": [
    "# -*- coding: utf-8 -*-\n",
    "import json\n",
    "import math\n",
    "from scipy import stats\n",
    "from matplotlib import pyplot as plt\n",
    "import matplotlib\n",
    "\n",
    "matplotlib.rcParams['font.sans-serif']=['MS Gothic']\n",
    "matplotlib.rcParams['axes.unicode_minus']=False\n",
    "\n",
    "with open('paimon-moe-local-data.json','r') as f:\n",
    "    json_file = json.load(f)"
   ]
  },
  {
   "cell_type": "code",
   "execution_count": 65,
   "metadata": {},
   "outputs": [
    {
     "name": "stdout",
     "output_type": "stream",
     "text": [
      "確率分布:幾何分布\n",
      "星５獲得回数: 12.00\n",
      "星５の確率: 0.015979\n",
      "星５の期待値: 62.583333\n",
      "標準偏差： 62.081320\n"
     ]
    }
   ],
   "source": [
    "characters_5star_list = [\n",
    "    \"mona\",\n",
    "    \"kamisato_ayaka\",\n",
    "    \"qiqi\",\n",
    "    \"raiden_shogun\",\n",
    "    \"jean\",\n",
    "    \"albedo\",\n",
    "    \"shenhe\",\n",
    "    \"zhongli\",\n",
    "    \"yae_miko\"]\n",
    "characters_5star_wish_count = 0\n",
    "wish_count = 580 + 171\n",
    "data = json_file.get(\"wish-counter-character-event\")[\"pulls\"]\n",
    "for i in data:\n",
    "    if i[\"id\"] in characters_5star_list:\n",
    "        characters_5star_wish_count += 1\n",
    "data2 = json_file.get(\"wish-counter-standard\")[\"pulls\"]\n",
    "for i in data2:\n",
    "    if i[\"id\"] in characters_5star_list:\n",
    "        characters_5star_wish_count += 1\n",
    "print(\"確率分布:幾何分布\")\n",
    "print(\"星５獲得回数: {:.2f}\".format(characters_5star_wish_count))\n",
    "p1 = characters_5star_wish_count/wish_count\n",
    "print(\"星５の確率: {:.6f}\".format(p1))\n",
    "print(\"星５の期待値: {:.6f}\".format(1/p1))\n",
    "print(\"標準偏差： {:.6f}\".format(math.sqrt((1-p1)/(p1*p1))))"
   ]
  },
  {
   "cell_type": "code",
   "execution_count": 66,
   "metadata": {},
   "outputs": [
    {
     "name": "stdout",
     "output_type": "stream",
     "text": [
      "E(X): 62.583333333333336\n",
      "V(X): 62.08131987786486\n",
      "歪度: 2.00006486509863\n",
      "尖度: 6.000259464602001\n"
     ]
    }
   ],
   "source": [
    "mean,variance,skewness,kurtosis=stats.geom.stats(p1,moments=\"mvsk\")\n",
    "print(\"E(X):\",mean)\n",
    "print(\"V(X):\",math.sqrt(variance))\n",
    "print(\"歪度:\",skewness)\n",
    "print(\"尖度:\",kurtosis)"
   ]
  },
  {
   "cell_type": "code",
   "execution_count": 67,
   "metadata": {},
   "outputs": [
    {
     "data": {
      "image/png": "[encoded data removed]",
      "text/plain": [
       "<Figure size 432x288 with 1 Axes>"
      ]
     },
     "metadata": {
      "needs_background": "light"
     },
     "output_type": "display_data"
    }
   ],
   "source": [
    "n=wish_count\n",
    "p=p1\n",
    "x=range(0,wish_count)\n",
    "pmf_result=stats.geom.cdf(x,p)\n",
    "\n",
    "plt.bar(x,pmf_result)\n",
    "#plt.xlabel('Number of Success')\n",
    "#plt.ylabel('Probability')\n",
    "plt.title(\"累積分布関数\")\n",
    "plt.grid(axis='both')\n",
    "plt.show()"
   ]
  },
  {
   "cell_type": "code",
   "execution_count": 68,
   "metadata": {},
   "outputs": [
    {
     "data": {
      "image/png": "[encoded data removed]",
      "text/plain": [
       "<Figure size 432x288 with 1 Axes>"
      ]
     },
     "metadata": {
      "needs_background": "light"
     },
     "output_type": "display_data"
    }
   ],
   "source": [
    "n=wish_count\n",
    "p=p1\n",
    "x=range(0,n)\n",
    "pmf_result=stats.geom.pmf(x,p)\n",
    "\n",
    "plt.bar(x,pmf_result)\n",
    "plt.xlabel('Number of Success')\n",
    "plt.ylabel('Probability')\n",
    "plt.title(\"確率質量関数\")\n",
    "plt.show()"
   ]
  },
  {
   "cell_type": "code",
   "execution_count": 69,
   "metadata": {},
   "outputs": [
    {
     "name": "stdout",
     "output_type": "stream",
     "text": [
      "標準誤差：0.008968\n",
      "母集団確率範囲：[0.024947,0.007010]\n"
     ]
    }
   ],
   "source": [
    "z = 1.96\n",
    "p1_standard_error = z * (math.sqrt((p1*(1-p1))/wish_count))\n",
    "print(\"標準誤差：{:.6f}\".format(p1_standard_error))\n",
    "print(\"母集団確率範囲：[{:.6f},{:.6f}]\".format(p1 + p1_standard_error,p1 - p1_standard_error))"
   ]
  },
  {
   "cell_type": "code",
   "execution_count": 70,
   "metadata": {},
   "outputs": [
    {
     "name": "stdout",
     "output_type": "stream",
     "text": [
      "H0:星5が当たる確率は1.6%(P=0.016)\n",
      "H1:星5が当たる確率は1.6%ではない(P≠0.016)\n",
      "正規化したz値: 0.004653100937838977\n",
      "有意水準5%で、両側検定のz値: 1.9599639845400545\n",
      "H0は棄却できない・H0を棄却するための十分な証拠がない\n"
     ]
    }
   ],
   "source": [
    "\n",
    "p0 = 0.016\n",
    "n = wish_count\n",
    "significance_level = 0.025\n",
    "z = abs((p1-p0)/(math.sqrt((p0*(1-p0))/n)))\n",
    "print(\"H0:星5が当たる確率は1.6%(P=0.016)\")\n",
    "print(\"H1:星5が当たる確率は1.6%ではない(P≠0.016)\")\n",
    "print(\"正規化したz値:\",z)\n",
    "z0 = abs(stats.norm.ppf(significance_level))\n",
    "print(\"有意水準5%で、両側検定のz値:\",z0)\n",
    "if z <= z0 :\n",
    "    print(\"H0は棄却できない・H0を棄却するための十分な証拠がない\")\n",
    "else:\n",
    "    print(\"H0が棄却され、H1を受容する\")\n"
   ]
  },
  {
   "cell_type": "code",
   "execution_count": 71,
   "metadata": {},
   "outputs": [
    {
     "name": "stdout",
     "output_type": "stream",
     "text": [
      "P値: 1.0\n",
      "子集団の確率: 0.015978695073235686\n",
      "low: 0.008282974761761737\n",
      "high: 0.02774507655042755\n",
      "一先ず安心、課金はほどほど\n"
     ]
    }
   ],
   "source": [
    "b = stats.binomtest(characters_5star_wish_count,n,p0)\n",
    "print(\"P値:\",b.pvalue)\n",
    "print(\"子集団の確率:\",b.proportion_estimate)\n",
    "interval = b.proportion_ci(0.95)\n",
    "print(\"low:\",interval.low)\n",
    "print(\"high:\",interval.high)\n",
    "if b.pvalue < 0.05:\n",
    "    print(\"弁護士を呼ぶ時が来た！\")\n",
    "else:\n",
    "    print(\"一先ず安心、課金はほどほど\")"
   ]
  }
 ],
 "metadata": {
  "interpreter": {
   "hash": "11f1dc213e07634baa4c5c321dec03c05dafae643c50f20e6d1a492290c05dc2"
  },
  "kernelspec": {
   "display_name": "Python 3.9.1 64-bit",
   "language": "python",
   "name": "python3"
  },
  "language_info": {
   "codemirror_mode": {
    "name": "ipython",
    "version": 3
   },
   "file_extension": ".py",
   "mimetype": "text/x-python",
   "name": "python",
   "nbconvert_exporter": "python",
   "pygments_lexer": "ipython3",
   "version": "3.8.6"
  },
  "orig_nbformat": 4
 },
 "nbformat": 4,
 "nbformat_minor": 2
}
